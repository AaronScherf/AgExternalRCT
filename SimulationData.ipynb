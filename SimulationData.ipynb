{
  "nbformat": 4,
  "nbformat_minor": 0,
  "metadata": {
    "colab": {
      "name": "SimulationData.ipynb",
      "provenance": [],
      "collapsed_sections": [],
      "authorship_tag": "ABX9TyMdERsMSgYHGSLQcUfv18oW",
      "include_colab_link": true
    },
    "kernelspec": {
      "name": "python3",
      "display_name": "Python 3"
    }
  },
  "cells": [
    {
      "cell_type": "markdown",
      "metadata": {
        "id": "view-in-github",
        "colab_type": "text"
      },
      "source": [
        "<a href=\"https://colab.research.google.com/github/AaronScherf/AgExternalRCT/blob/master/SimulationData.ipynb\" target=\"_parent\"><img src=\"https://colab.research.google.com/assets/colab-badge.svg\" alt=\"Open In Colab\"/></a>"
      ]
    },
    {
      "cell_type": "markdown",
      "metadata": {
        "id": "onukk3M_tJSh",
        "colab_type": "text"
      },
      "source": [
        "Creating a Simulated Geographic Dataset\n",
        "Example Code: https://chrisalbon.com/python/data_wrangling/geocoding_and_reverse_geocoding/"
      ]
    },
    {
      "cell_type": "code",
      "metadata": {
        "id": "LvjiDUpI3qbT",
        "colab_type": "code",
        "colab": {
          "base_uri": "https://localhost:8080/",
          "height": 252
        },
        "outputId": "70fd39eb-10e7-4fe2-bc0d-fbcd3862e45b"
      },
      "source": [
        "!pip install pygeocoder"
      ],
      "execution_count": 7,
      "outputs": [
        {
          "output_type": "stream",
          "text": [
            "Collecting pygeocoder\n",
            "  Downloading https://files.pythonhosted.org/packages/3b/79/2cf3a4dfe54705bbf07cbb25940078dfa595608aa4ecb9f0aaaae9faba08/pygeocoder-1.2.5.tar.gz\n",
            "Requirement already satisfied: requests>=1.0 in /usr/local/lib/python3.6/dist-packages (from pygeocoder) (2.21.0)\n",
            "Requirement already satisfied: chardet<3.1.0,>=3.0.2 in /usr/local/lib/python3.6/dist-packages (from requests>=1.0->pygeocoder) (3.0.4)\n",
            "Requirement already satisfied: certifi>=2017.4.17 in /usr/local/lib/python3.6/dist-packages (from requests>=1.0->pygeocoder) (2019.11.28)\n",
            "Requirement already satisfied: idna<2.9,>=2.5 in /usr/local/lib/python3.6/dist-packages (from requests>=1.0->pygeocoder) (2.8)\n",
            "Requirement already satisfied: urllib3<1.25,>=1.21.1 in /usr/local/lib/python3.6/dist-packages (from requests>=1.0->pygeocoder) (1.24.3)\n",
            "Building wheels for collected packages: pygeocoder\n",
            "  Building wheel for pygeocoder (setup.py) ... \u001b[?25l\u001b[?25hdone\n",
            "  Created wheel for pygeocoder: filename=pygeocoder-1.2.5-cp36-none-any.whl size=8885 sha256=477b836bd069bf1cd1db274a2c4f2e04f40cd8dbf4e5f13bafceb12b290a8e20\n",
            "  Stored in directory: /root/.cache/pip/wheels/7c/4c/00/d05c66c4af5411c554c91b8079732c8a0359c2226fb8c01031\n",
            "Successfully built pygeocoder\n",
            "Installing collected packages: pygeocoder\n",
            "Successfully installed pygeocoder-1.2.5\n"
          ],
          "name": "stdout"
        }
      ]
    },
    {
      "cell_type": "code",
      "metadata": {
        "id": "nylD_34jsoz8",
        "colab_type": "code",
        "colab": {}
      },
      "source": [
        "# Load packages\n",
        "from pygeocoder import Geocoder\n",
        "import pandas as pd\n",
        "import numpy as np"
      ],
      "execution_count": 0,
      "outputs": []
    },
    {
      "cell_type": "markdown",
      "metadata": {
        "id": "serIH0KgvHyA",
        "colab_type": "text"
      },
      "source": [
        "Create some simulated geo data"
      ]
    },
    {
      "cell_type": "code",
      "metadata": {
        "id": "RT6ALMRUshZn",
        "colab_type": "code",
        "colab": {}
      },
      "source": [
        "# Create a dictionary of raw data\n",
        "data = {'Site 1': '31.336968, -109.560959',\n",
        "        'Site 2': '31.347745, -108.229963',\n",
        "        'Site 3': '32.277621, -107.734724',\n",
        "        'Site 4': '31.655494, -106.420484',\n",
        "        'Site 5': '30.295053, -104.014528'}"
      ],
      "execution_count": 0,
      "outputs": []
    },
    {
      "cell_type": "code",
      "metadata": {
        "id": "CJb5UA-8th92",
        "colab_type": "code",
        "colab": {
          "base_uri": "https://localhost:8080/",
          "height": 195
        },
        "outputId": "50437a45-18be-46e9-9d49-afe49ccb97d1"
      },
      "source": [
        "# Convert the dictionary into a pandas dataframe\n",
        "df = pd.DataFrame.from_dict(data, orient='index')\n",
        "\n",
        "# View the dataframe\n",
        "df"
      ],
      "execution_count": 10,
      "outputs": [
        {
          "output_type": "execute_result",
          "data": {
            "text/html": [
              "<div>\n",
              "<style scoped>\n",
              "    .dataframe tbody tr th:only-of-type {\n",
              "        vertical-align: middle;\n",
              "    }\n",
              "\n",
              "    .dataframe tbody tr th {\n",
              "        vertical-align: top;\n",
              "    }\n",
              "\n",
              "    .dataframe thead th {\n",
              "        text-align: right;\n",
              "    }\n",
              "</style>\n",
              "<table border=\"1\" class=\"dataframe\">\n",
              "  <thead>\n",
              "    <tr style=\"text-align: right;\">\n",
              "      <th></th>\n",
              "      <th>0</th>\n",
              "    </tr>\n",
              "  </thead>\n",
              "  <tbody>\n",
              "    <tr>\n",
              "      <th>Site 1</th>\n",
              "      <td>31.336968, -109.560959</td>\n",
              "    </tr>\n",
              "    <tr>\n",
              "      <th>Site 2</th>\n",
              "      <td>31.347745, -108.229963</td>\n",
              "    </tr>\n",
              "    <tr>\n",
              "      <th>Site 3</th>\n",
              "      <td>32.277621, -107.734724</td>\n",
              "    </tr>\n",
              "    <tr>\n",
              "      <th>Site 4</th>\n",
              "      <td>31.655494, -106.420484</td>\n",
              "    </tr>\n",
              "    <tr>\n",
              "      <th>Site 5</th>\n",
              "      <td>30.295053, -104.014528</td>\n",
              "    </tr>\n",
              "  </tbody>\n",
              "</table>\n",
              "</div>"
            ],
            "text/plain": [
              "                             0\n",
              "Site 1  31.336968, -109.560959\n",
              "Site 2  31.347745, -108.229963\n",
              "Site 3  32.277621, -107.734724\n",
              "Site 4  31.655494, -106.420484\n",
              "Site 5  30.295053, -104.014528"
            ]
          },
          "metadata": {
            "tags": []
          },
          "execution_count": 10
        }
      ]
    },
    {
      "cell_type": "code",
      "metadata": {
        "id": "oDgNIFCqtyTS",
        "colab_type": "code",
        "colab": {}
      },
      "source": [
        "# Create two lists for the loop results to be placed\n",
        "lat = []\n",
        "lon = []\n",
        "\n",
        "# For each row in a variable,\n",
        "for row in df[0]:\n",
        "    # Try to,\n",
        "    try:\n",
        "        # Split the row by comma, convert to float, and append\n",
        "        # everything before the comma to lat\n",
        "        lat.append(float(row.split(',')[0]))\n",
        "        # Split the row by comma, convert to float, and append\n",
        "        # everything after the comma to lon\n",
        "        lon.append(float(row.split(',')[1]))\n",
        "    # But if you get an error\n",
        "    except:\n",
        "        # append a missing value to lat\n",
        "        lat.append(np.NaN)\n",
        "        # append a missing value to lon\n",
        "        lon.append(np.NaN)\n",
        "\n",
        "# Create two new columns from lat and lon\n",
        "df['latitude'] = lat\n",
        "df['longitude'] = lon"
      ],
      "execution_count": 0,
      "outputs": []
    },
    {
      "cell_type": "code",
      "metadata": {
        "id": "5_xGnwHIuTsU",
        "colab_type": "code",
        "colab": {}
      },
      "source": [
        "# View the dataframe\n",
        "df"
      ],
      "execution_count": 0,
      "outputs": []
    },
    {
      "cell_type": "markdown",
      "metadata": {
        "id": "WsrPyvCwubzL",
        "colab_type": "text"
      },
      "source": [
        "Reverse Geocoding"
      ]
    },
    {
      "cell_type": "code",
      "metadata": {
        "id": "QGR9lAAxuVng",
        "colab_type": "code",
        "colab": {}
      },
      "source": [
        "# Convert longitude and latitude to a location\n",
        "results = Geocoder.reverse_geocode(df['latitude'][0], df['longitude'][0])"
      ],
      "execution_count": 0,
      "outputs": []
    },
    {
      "cell_type": "code",
      "metadata": {
        "id": "mgFGM66NubEY",
        "colab_type": "code",
        "colab": {}
      },
      "source": [
        "# Print the lat/long\n",
        "results.coordinates"
      ],
      "execution_count": 0,
      "outputs": []
    },
    {
      "cell_type": "code",
      "metadata": {
        "id": "qgCLzJOjugv8",
        "colab_type": "code",
        "colab": {}
      },
      "source": [
        "# Print the city\n",
        "results.city"
      ],
      "execution_count": 0,
      "outputs": []
    },
    {
      "cell_type": "code",
      "metadata": {
        "id": "orxnUdwwuitK",
        "colab_type": "code",
        "colab": {}
      },
      "source": [
        "# Print the country\n",
        "results.country"
      ],
      "execution_count": 0,
      "outputs": []
    },
    {
      "cell_type": "markdown",
      "metadata": {
        "id": "KEpZ9mwsuztp",
        "colab_type": "text"
      },
      "source": [
        "GeoCoding"
      ]
    },
    {
      "cell_type": "code",
      "metadata": {
        "id": "KayRM-I4uswY",
        "colab_type": "code",
        "colab": {}
      },
      "source": [
        "# Verify that an address is valid (i.e. in Google's system)\n",
        "Geocoder.geocode(\"4207 N Washington Ave, Douglas, AZ 85607\").valid_address"
      ],
      "execution_count": 0,
      "outputs": []
    },
    {
      "cell_type": "code",
      "metadata": {
        "id": "S7SMpKPNuu-U",
        "colab_type": "code",
        "colab": {}
      },
      "source": [
        "# Find the lat/long of a certain address\n",
        "result = Geocoder.geocode(\"4207 N Washington Ave, Douglas, AZ 85607\")"
      ],
      "execution_count": 0,
      "outputs": []
    }
  ]
}