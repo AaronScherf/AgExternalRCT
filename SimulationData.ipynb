{
  "nbformat": 4,
  "nbformat_minor": 0,
  "metadata": {
    "colab": {
      "name": "SimulationData.ipynb",
      "provenance": [],
      "authorship_tag": "ABX9TyM319fFYZPKreaMNRmnoehi",
      "include_colab_link": true
    },
    "kernelspec": {
      "name": "python3",
      "display_name": "Python 3"
    }
  },
  "cells": [
    {
      "cell_type": "markdown",
      "metadata": {
        "id": "view-in-github",
        "colab_type": "text"
      },
      "source": [
        "<a href=\"https://colab.research.google.com/github/AaronScherf/AgExternalRCT/blob/master/SimulationData.ipynb\" target=\"_parent\"><img src=\"https://colab.research.google.com/assets/colab-badge.svg\" alt=\"Open In Colab\"/></a>"
      ]
    },
    {
      "cell_type": "markdown",
      "metadata": {
        "id": "onukk3M_tJSh",
        "colab_type": "text"
      },
      "source": [
        "Creating a Simulated Geographic Dataset\n",
        "Example Code: https://chrisalbon.com/python/data_wrangling/geocoding_and_reverse_geocoding/"
      ]
    },
    {
      "cell_type": "code",
      "metadata": {
        "id": "nylD_34jsoz8",
        "colab_type": "code",
        "colab": {}
      },
      "source": [
        "# Load packages\n",
        "from pygeocoder import Geocoder\n",
        "import pandas as pd\n",
        "import numpy as np"
      ],
      "execution_count": 0,
      "outputs": []
    },
    {
      "cell_type": "markdown",
      "metadata": {
        "id": "serIH0KgvHyA",
        "colab_type": "text"
      },
      "source": [
        "Create some simulated geo data"
      ]
    },
    {
      "cell_type": "code",
      "metadata": {
        "id": "RT6ALMRUshZn",
        "colab_type": "code",
        "colab": {}
      },
      "source": [
        "# Create a dictionary of raw data\n",
        "data = {'Site 1': '31.336968, -109.560959',\n",
        "        'Site 2': '31.347745, -108.229963',\n",
        "        'Site 3': '32.277621, -107.734724',\n",
        "        'Site 4': '31.655494, -106.420484',\n",
        "        'Site 5': '30.295053, -104.014528'}"
      ],
      "execution_count": 0,
      "outputs": []
    },
    {
      "cell_type": "code",
      "metadata": {
        "id": "CJb5UA-8th92",
        "colab_type": "code",
        "colab": {}
      },
      "source": [
        "# Convert the dictionary into a pandas dataframe\n",
        "df = pd.DataFrame.from_dict(data, orient='index')\n",
        "\n",
        "# View the dataframe\n",
        "df"
      ],
      "execution_count": 0,
      "outputs": []
    },
    {
      "cell_type": "code",
      "metadata": {
        "id": "oDgNIFCqtyTS",
        "colab_type": "code",
        "colab": {}
      },
      "source": [
        "# Create two lists for the loop results to be placed\n",
        "lat = []\n",
        "lon = []\n",
        "\n",
        "# For each row in a varible,\n",
        "for row in df[0]:\n",
        "    # Try to,\n",
        "    try:\n",
        "        # Split the row by comma, convert to float, and append\n",
        "        # everything before the comma to lat\n",
        "        lat.append(float(row.split(',')[0]))\n",
        "        # Split the row by comma, convert to float, and append\n",
        "        # everything after the comma to lon\n",
        "        lon.append(float(row.split(',')[1]))\n",
        "    # But if you get an error\n",
        "    except:\n",
        "        # append a missing value to lat\n",
        "        lat.append(np.NaN)\n",
        "        # append a missing value to lon\n",
        "        lon.append(np.NaN)\n",
        "\n",
        "# Create two new columns from lat and lon\n",
        "df['latitude'] = lat\n",
        "df['longitude'] = lon"
      ],
      "execution_count": 0,
      "outputs": []
    },
    {
      "cell_type": "code",
      "metadata": {
        "id": "5_xGnwHIuTsU",
        "colab_type": "code",
        "colab": {}
      },
      "source": [
        "# View the dataframe\n",
        "df"
      ],
      "execution_count": 0,
      "outputs": []
    },
    {
      "cell_type": "markdown",
      "metadata": {
        "id": "WsrPyvCwubzL",
        "colab_type": "text"
      },
      "source": [
        "Reverse Geocoding"
      ]
    },
    {
      "cell_type": "code",
      "metadata": {
        "id": "QGR9lAAxuVng",
        "colab_type": "code",
        "colab": {}
      },
      "source": [
        "# Convert longitude and latitude to a location\n",
        "results = Geocoder.reverse_geocode(df['latitude'][0], df['longitude'][0])"
      ],
      "execution_count": 0,
      "outputs": []
    },
    {
      "cell_type": "code",
      "metadata": {
        "id": "mgFGM66NubEY",
        "colab_type": "code",
        "colab": {}
      },
      "source": [
        "# Print the lat/long\n",
        "results.coordinates"
      ],
      "execution_count": 0,
      "outputs": []
    },
    {
      "cell_type": "code",
      "metadata": {
        "id": "qgCLzJOjugv8",
        "colab_type": "code",
        "colab": {}
      },
      "source": [
        "# Print the city\n",
        "results.city"
      ],
      "execution_count": 0,
      "outputs": []
    },
    {
      "cell_type": "code",
      "metadata": {
        "id": "orxnUdwwuitK",
        "colab_type": "code",
        "colab": {}
      },
      "source": [
        "# Print the country\n",
        "results.country"
      ],
      "execution_count": 0,
      "outputs": []
    },
    {
      "cell_type": "markdown",
      "metadata": {
        "id": "KEpZ9mwsuztp",
        "colab_type": "text"
      },
      "source": [
        "GeoCoding"
      ]
    },
    {
      "cell_type": "code",
      "metadata": {
        "id": "KayRM-I4uswY",
        "colab_type": "code",
        "colab": {}
      },
      "source": [
        "# Verify that an address is valid (i.e. in Google's system)\n",
        "Geocoder.geocode(\"4207 N Washington Ave, Douglas, AZ 85607\").valid_address"
      ],
      "execution_count": 0,
      "outputs": []
    },
    {
      "cell_type": "code",
      "metadata": {
        "id": "S7SMpKPNuu-U",
        "colab_type": "code",
        "colab": {}
      },
      "source": [
        "# Find the lat/long of a certain address\n",
        "result = Geocoder.geocode(\"4207 N Washington Ave, Douglas, AZ 85607\")"
      ],
      "execution_count": 0,
      "outputs": []
    }
  ]
}